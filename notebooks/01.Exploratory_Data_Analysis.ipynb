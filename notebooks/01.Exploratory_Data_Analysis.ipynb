{
 "cells": [
  {
   "cell_type": "markdown",
   "id": "ee0b6a89-d988-4696-a0cf-b8094a344633",
   "metadata": {},
   "source": [
    "# Task 0: Understanding the data"
   ]
  },
  {
   "cell_type": "markdown",
   "id": "2564b5f1-8290-40d6-9977-d6c310cbd414",
   "metadata": {},
   "source": [
    "## 1. Load libraries"
   ]
  },
  {
   "cell_type": "code",
   "execution_count": 1,
   "id": "a83b7d51-40f0-44c3-8393-38f51abd4435",
   "metadata": {},
   "outputs": [],
   "source": [
    "import pandas as pd\n",
    "import numpy as np\n",
    "import seaborn as sns\n",
    "import matplotlib.pyplot as plt\n",
    "\n",
    "%matplotlib inline"
   ]
  },
  {
   "cell_type": "markdown",
   "id": "9d27b094-97e2-4b24-a812-d470c2a4879d",
   "metadata": {},
   "source": [
    "## 2. Load data"
   ]
  },
  {
   "cell_type": "code",
   "execution_count": 2,
   "id": "614fdfa0-59de-4bc0-a077-93429eab6f4d",
   "metadata": {},
   "outputs": [],
   "source": [
    "journeys = pd.read_csv('../data/journeys.csv')\n",
    "utilization = pd.read_csv('../data/utilization.csv', sep=';', header=1)"
   ]
  },
  {
   "cell_type": "code",
   "execution_count": 3,
   "id": "2328af79-1125-49cd-b53f-a53174ac3fc9",
   "metadata": {},
   "outputs": [
    {
     "data": {
      "text/html": [
       "<div>\n",
       "<style scoped>\n",
       "    .dataframe tbody tr th:only-of-type {\n",
       "        vertical-align: middle;\n",
       "    }\n",
       "\n",
       "    .dataframe tbody tr th {\n",
       "        vertical-align: top;\n",
       "    }\n",
       "\n",
       "    .dataframe thead th {\n",
       "        text-align: right;\n",
       "    }\n",
       "</style>\n",
       "<table border=\"1\" class=\"dataframe\">\n",
       "  <thead>\n",
       "    <tr style=\"text-align: right;\">\n",
       "      <th></th>\n",
       "      <th>Trip ID Hash</th>\n",
       "      <th>Car ID Hash</th>\n",
       "      <th>Car Parking Address Postcode</th>\n",
       "      <th>Car Parking Address City</th>\n",
       "      <th>Trip Start At Local Time</th>\n",
       "      <th>Trip End At Local Time</th>\n",
       "      <th>Trip Created At Local Time</th>\n",
       "      <th>Trip Sum Trip Price</th>\n",
       "    </tr>\n",
       "  </thead>\n",
       "  <tbody>\n",
       "    <tr>\n",
       "      <th>0</th>\n",
       "      <td>00010247034d28272cf5e1e16b43f52f</td>\n",
       "      <td>9ddac6a5fb0b3962db3b2f42fd31d3f9</td>\n",
       "      <td>94110</td>\n",
       "      <td>San Francisco</td>\n",
       "      <td>2017-11-14 22:15:00</td>\n",
       "      <td>2017-11-15 02:15:00</td>\n",
       "      <td>2017-11-14 20:32:59</td>\n",
       "      <td>$20.00</td>\n",
       "    </tr>\n",
       "    <tr>\n",
       "      <th>1</th>\n",
       "      <td>0001556e5d28e66b3318e89c094186c4</td>\n",
       "      <td>0f386ec90e0710ca143922520eaf8a3e</td>\n",
       "      <td>94117</td>\n",
       "      <td>San Francisco</td>\n",
       "      <td>2017-12-07 17:00:00</td>\n",
       "      <td>2017-12-08 04:00:00</td>\n",
       "      <td>2017-12-07 04:51:42</td>\n",
       "      <td>$55.00</td>\n",
       "    </tr>\n",
       "    <tr>\n",
       "      <th>2</th>\n",
       "      <td>000286e8771651e6983555c62558b57f</td>\n",
       "      <td>63e4509c686d891f5364c24339369460</td>\n",
       "      <td>94115</td>\n",
       "      <td>San Francisco</td>\n",
       "      <td>2017-03-23 10:00:00</td>\n",
       "      <td>2017-03-23 12:00:00</td>\n",
       "      <td>2017-03-23 08:49:48</td>\n",
       "      <td>$18.00</td>\n",
       "    </tr>\n",
       "  </tbody>\n",
       "</table>\n",
       "</div>"
      ],
      "text/plain": [
       "                       Trip ID Hash                       Car ID Hash  \\\n",
       "0  00010247034d28272cf5e1e16b43f52f  9ddac6a5fb0b3962db3b2f42fd31d3f9   \n",
       "1  0001556e5d28e66b3318e89c094186c4  0f386ec90e0710ca143922520eaf8a3e   \n",
       "2  000286e8771651e6983555c62558b57f  63e4509c686d891f5364c24339369460   \n",
       "\n",
       "   Car Parking Address Postcode Car Parking Address City  \\\n",
       "0                         94110            San Francisco   \n",
       "1                         94117            San Francisco   \n",
       "2                         94115            San Francisco   \n",
       "\n",
       "  Trip Start At Local Time Trip End At Local Time Trip Created At Local Time  \\\n",
       "0      2017-11-14 22:15:00    2017-11-15 02:15:00        2017-11-14 20:32:59   \n",
       "1      2017-12-07 17:00:00    2017-12-08 04:00:00        2017-12-07 04:51:42   \n",
       "2      2017-03-23 10:00:00    2017-03-23 12:00:00        2017-03-23 08:49:48   \n",
       "\n",
       "  Trip Sum Trip Price  \n",
       "0              $20.00  \n",
       "1              $55.00  \n",
       "2              $18.00  "
      ]
     },
     "execution_count": 3,
     "metadata": {},
     "output_type": "execute_result"
    }
   ],
   "source": [
    "journeys.head(3)"
   ]
  },
  {
   "cell_type": "code",
   "execution_count": 4,
   "id": "210c2757-1761-4d05-8c83-6921e45b3879",
   "metadata": {},
   "outputs": [
    {
     "data": {
      "text/plain": [
       "Trip ID Hash                    object\n",
       "Car ID Hash                     object\n",
       "Car Parking Address Postcode     int64\n",
       "Car Parking Address City        object\n",
       "Trip Start At Local Time        object\n",
       "Trip End At Local Time          object\n",
       "Trip Created At Local Time      object\n",
       "Trip Sum Trip Price             object\n",
       "dtype: object"
      ]
     },
     "execution_count": 4,
     "metadata": {},
     "output_type": "execute_result"
    }
   ],
   "source": [
    "journeys.dtypes"
   ]
  },
  {
   "cell_type": "code",
   "execution_count": 5,
   "id": "06a4916e-3630-431e-8e4b-1949e1b91b37",
   "metadata": {},
   "outputs": [
    {
     "data": {
      "text/plain": [
       "(56537, 8)"
      ]
     },
     "execution_count": 5,
     "metadata": {},
     "output_type": "execute_result"
    }
   ],
   "source": [
    "journeys.shape"
   ]
  },
  {
   "cell_type": "code",
   "execution_count": 6,
   "id": "7f92c522-c667-4fdc-a0c6-4b4109f40382",
   "metadata": {},
   "outputs": [
    {
     "data": {
      "text/plain": [
       "Trip ID Hash                    0\n",
       "Car ID Hash                     0\n",
       "Car Parking Address Postcode    0\n",
       "Car Parking Address City        0\n",
       "Trip Start At Local Time        0\n",
       "Trip End At Local Time          0\n",
       "Trip Created At Local Time      0\n",
       "Trip Sum Trip Price             0\n",
       "dtype: int64"
      ]
     },
     "execution_count": 6,
     "metadata": {},
     "output_type": "execute_result"
    }
   ],
   "source": [
    "journeys.isna().sum()"
   ]
  },
  {
   "cell_type": "code",
   "execution_count": 7,
   "id": "f8a9b7d0-fe6c-425d-9187-ff0f81d6aae1",
   "metadata": {},
   "outputs": [
    {
     "data": {
      "text/html": [
       "<div>\n",
       "<style scoped>\n",
       "    .dataframe tbody tr th:only-of-type {\n",
       "        vertical-align: middle;\n",
       "    }\n",
       "\n",
       "    .dataframe tbody tr th {\n",
       "        vertical-align: top;\n",
       "    }\n",
       "\n",
       "    .dataframe thead th {\n",
       "        text-align: right;\n",
       "    }\n",
       "</style>\n",
       "<table border=\"1\" class=\"dataframe\">\n",
       "  <thead>\n",
       "    <tr style=\"text-align: right;\">\n",
       "      <th></th>\n",
       "      <th>Car ID Hash</th>\n",
       "      <th>Car Hourly Utilization Aggregated At Time</th>\n",
       "      <th>Car Hourly Utilization Sum Available Minutes</th>\n",
       "      <th>Car Hourly Utilization Sum Utilized Minutes</th>\n",
       "    </tr>\n",
       "  </thead>\n",
       "  <tbody>\n",
       "    <tr>\n",
       "      <th>0</th>\n",
       "      <td>001469b449411d52206f2dc5e523664d</td>\n",
       "      <td>2017-11-30 15:00:00</td>\n",
       "      <td>0.0</td>\n",
       "      <td>0.0</td>\n",
       "    </tr>\n",
       "    <tr>\n",
       "      <th>1</th>\n",
       "      <td>001469b449411d52206f2dc5e523664d</td>\n",
       "      <td>2017-11-30 16:00:00</td>\n",
       "      <td>0.0</td>\n",
       "      <td>0.0</td>\n",
       "    </tr>\n",
       "    <tr>\n",
       "      <th>2</th>\n",
       "      <td>001469b449411d52206f2dc5e523664d</td>\n",
       "      <td>2017-11-30 17:00:00</td>\n",
       "      <td>0.0</td>\n",
       "      <td>0.0</td>\n",
       "    </tr>\n",
       "  </tbody>\n",
       "</table>\n",
       "</div>"
      ],
      "text/plain": [
       "                        Car ID Hash Car Hourly Utilization Aggregated At Time  \\\n",
       "0  001469b449411d52206f2dc5e523664d                       2017-11-30 15:00:00   \n",
       "1  001469b449411d52206f2dc5e523664d                       2017-11-30 16:00:00   \n",
       "2  001469b449411d52206f2dc5e523664d                       2017-11-30 17:00:00   \n",
       "\n",
       "   Car Hourly Utilization Sum Available Minutes  \\\n",
       "0                                           0.0   \n",
       "1                                           0.0   \n",
       "2                                           0.0   \n",
       "\n",
       "   Car Hourly Utilization Sum Utilized Minutes  \n",
       "0                                          0.0  \n",
       "1                                          0.0  \n",
       "2                                          0.0  "
      ]
     },
     "execution_count": 7,
     "metadata": {},
     "output_type": "execute_result"
    }
   ],
   "source": [
    "utilization.head(3)"
   ]
  },
  {
   "cell_type": "code",
   "execution_count": 8,
   "id": "c22a9e43-2d83-47b9-94c6-3a08448cafc3",
   "metadata": {},
   "outputs": [
    {
     "data": {
      "text/plain": [
       "Car ID Hash                                      object\n",
       "Car Hourly Utilization Aggregated At Time        object\n",
       "Car Hourly Utilization Sum Available Minutes    float64\n",
       "Car Hourly Utilization Sum Utilized Minutes     float64\n",
       "dtype: object"
      ]
     },
     "execution_count": 8,
     "metadata": {},
     "output_type": "execute_result"
    }
   ],
   "source": [
    "utilization.dtypes"
   ]
  },
  {
   "cell_type": "code",
   "execution_count": 9,
   "id": "5f4729d2-030e-4e6a-85a2-251df221c80d",
   "metadata": {},
   "outputs": [
    {
     "data": {
      "text/plain": [
       "(999999, 4)"
      ]
     },
     "execution_count": 9,
     "metadata": {},
     "output_type": "execute_result"
    }
   ],
   "source": [
    "utilization.shape"
   ]
  },
  {
   "cell_type": "code",
   "execution_count": 10,
   "id": "142ae5bb-6b42-4e77-af68-fdcfc0e21557",
   "metadata": {},
   "outputs": [
    {
     "data": {
      "text/plain": [
       "Car ID Hash                                     0\n",
       "Car Hourly Utilization Aggregated At Time       0\n",
       "Car Hourly Utilization Sum Available Minutes    0\n",
       "Car Hourly Utilization Sum Utilized Minutes     0\n",
       "dtype: int64"
      ]
     },
     "execution_count": 10,
     "metadata": {},
     "output_type": "execute_result"
    }
   ],
   "source": [
    "utilization.isna().sum()"
   ]
  },
  {
   "cell_type": "markdown",
   "id": "633f4762-9988-4048-a57c-16c6cc4a73b4",
   "metadata": {},
   "source": [
    "## 3. Data Cleansing"
   ]
  },
  {
   "cell_type": "code",
   "execution_count": 11,
   "id": "7f07505b-7efe-4683-abb0-7647105645b1",
   "metadata": {},
   "outputs": [],
   "source": [
    "for col in [col for col in utilization.columns if 'Time' in col]:\n",
    "    utilization[col] = pd.to_datetime(utilization[col])"
   ]
  },
  {
   "cell_type": "code",
   "execution_count": 12,
   "id": "7192d78c-7ccf-4717-a5cd-f4f8cb43c3c1",
   "metadata": {},
   "outputs": [],
   "source": [
    "for col in [col for col in journeys.columns if 'Time' in col]:\n",
    "    journeys[col] = pd.to_datetime(journeys[col])"
   ]
  },
  {
   "cell_type": "code",
   "execution_count": 13,
   "id": "13c0a90c-35be-4c46-9565-698445b4cbc6",
   "metadata": {},
   "outputs": [],
   "source": [
    "utilization.columns = [col.lower().replace(' ', '_') for col in utilization.columns]\n",
    "journeys.columns = [col.lower().replace(' ', '_') for col in journeys.columns]"
   ]
  },
  {
   "cell_type": "code",
   "execution_count": 14,
   "id": "801f3abb-9fc0-4bad-b215-295d128c959e",
   "metadata": {},
   "outputs": [
    {
     "data": {
      "text/plain": [
       "car_id_hash                                             object\n",
       "car_hourly_utilization_aggregated_at_time       datetime64[ns]\n",
       "car_hourly_utilization_sum_available_minutes           float64\n",
       "car_hourly_utilization_sum_utilized_minutes            float64\n",
       "dtype: object"
      ]
     },
     "execution_count": 14,
     "metadata": {},
     "output_type": "execute_result"
    }
   ],
   "source": [
    "utilization.dtypes"
   ]
  },
  {
   "cell_type": "code",
   "execution_count": 15,
   "id": "ee2266ea-6a22-47e6-a693-fef45dbcc1ef",
   "metadata": {
    "tags": []
   },
   "outputs": [
    {
     "data": {
      "text/plain": [
       "trip_id_hash                            object\n",
       "car_id_hash                             object\n",
       "car_parking_address_postcode             int64\n",
       "car_parking_address_city                object\n",
       "trip_start_at_local_time        datetime64[ns]\n",
       "trip_end_at_local_time          datetime64[ns]\n",
       "trip_created_at_local_time      datetime64[ns]\n",
       "trip_sum_trip_price                     object\n",
       "dtype: object"
      ]
     },
     "execution_count": 15,
     "metadata": {},
     "output_type": "execute_result"
    }
   ],
   "source": [
    "journeys.dtypes"
   ]
  },
  {
   "cell_type": "code",
   "execution_count": 16,
   "id": "9f960980-6711-4ad8-8ff5-8ea9271d7005",
   "metadata": {},
   "outputs": [],
   "source": [
    "journeys['trip_sum_trip_price'] = (\n",
    "    journeys['trip_sum_trip_price'].str.replace('$', '', regex=False)\n",
    "    .str.replace(',', '', regex=False)\n",
    "    .astype(float)\n",
    ")"
   ]
  },
  {
   "cell_type": "markdown",
   "id": "a39b9db9-cff2-4b12-8313-4afa424d2820",
   "metadata": {},
   "source": [
    "## 4. Creating new features"
   ]
  },
  {
   "cell_type": "code",
   "execution_count": 17,
   "id": "f1ec0293-1261-41e1-8024-2bb0d26ad45e",
   "metadata": {},
   "outputs": [],
   "source": [
    "journeys['duration'] = (\n",
    "    journeys['trip_end_at_local_time'] - journeys['trip_start_at_local_time']\n",
    ")\n",
    "\n",
    "journeys['duration'] = journeys['duration'].astype('timedelta64[s]')"
   ]
  },
  {
   "cell_type": "code",
   "execution_count": 18,
   "id": "796ec22a-27cc-40bb-8f18-866d2e6b4235",
   "metadata": {},
   "outputs": [],
   "source": [
    "journeys['creation_to_start'] = (\n",
    "    journeys['trip_start_at_local_time'] - journeys['trip_created_at_local_time']\n",
    ")\n",
    "journeys['creation_to_start'] = journeys['creation_to_start'].astype('timedelta64[s]')"
   ]
  },
  {
   "cell_type": "code",
   "execution_count": 19,
   "id": "f302e814-1922-452e-b483-535c0d99913f",
   "metadata": {},
   "outputs": [
    {
     "data": {
      "text/html": [
       "<div>\n",
       "<style scoped>\n",
       "    .dataframe tbody tr th:only-of-type {\n",
       "        vertical-align: middle;\n",
       "    }\n",
       "\n",
       "    .dataframe tbody tr th {\n",
       "        vertical-align: top;\n",
       "    }\n",
       "\n",
       "    .dataframe thead th {\n",
       "        text-align: right;\n",
       "    }\n",
       "</style>\n",
       "<table border=\"1\" class=\"dataframe\">\n",
       "  <thead>\n",
       "    <tr style=\"text-align: right;\">\n",
       "      <th></th>\n",
       "      <th>duration</th>\n",
       "      <th>creation_to_start</th>\n",
       "      <th>trip_sum_trip_price</th>\n",
       "    </tr>\n",
       "  </thead>\n",
       "  <tbody>\n",
       "    <tr>\n",
       "      <th>count</th>\n",
       "      <td>5.653700e+04</td>\n",
       "      <td>5.653700e+04</td>\n",
       "      <td>56537.000000</td>\n",
       "    </tr>\n",
       "    <tr>\n",
       "      <th>mean</th>\n",
       "      <td>3.612792e+04</td>\n",
       "      <td>6.088025e+04</td>\n",
       "      <td>53.790023</td>\n",
       "    </tr>\n",
       "    <tr>\n",
       "      <th>std</th>\n",
       "      <td>6.021352e+04</td>\n",
       "      <td>1.598641e+05</td>\n",
       "      <td>61.664701</td>\n",
       "    </tr>\n",
       "    <tr>\n",
       "      <th>min</th>\n",
       "      <td>3.600000e+03</td>\n",
       "      <td>6.000000e+00</td>\n",
       "      <td>3.030000</td>\n",
       "    </tr>\n",
       "    <tr>\n",
       "      <th>25%</th>\n",
       "      <td>1.260000e+04</td>\n",
       "      <td>1.128000e+03</td>\n",
       "      <td>24.000000</td>\n",
       "    </tr>\n",
       "    <tr>\n",
       "      <th>50%</th>\n",
       "      <td>2.160000e+04</td>\n",
       "      <td>9.909000e+03</td>\n",
       "      <td>39.870000</td>\n",
       "    </tr>\n",
       "    <tr>\n",
       "      <th>75%</th>\n",
       "      <td>3.510000e+04</td>\n",
       "      <td>5.754400e+04</td>\n",
       "      <td>63.250000</td>\n",
       "    </tr>\n",
       "    <tr>\n",
       "      <th>max</th>\n",
       "      <td>3.715200e+06</td>\n",
       "      <td>2.418952e+06</td>\n",
       "      <td>3225.000000</td>\n",
       "    </tr>\n",
       "  </tbody>\n",
       "</table>\n",
       "</div>"
      ],
      "text/plain": [
       "           duration  creation_to_start  trip_sum_trip_price\n",
       "count  5.653700e+04       5.653700e+04         56537.000000\n",
       "mean   3.612792e+04       6.088025e+04            53.790023\n",
       "std    6.021352e+04       1.598641e+05            61.664701\n",
       "min    3.600000e+03       6.000000e+00             3.030000\n",
       "25%    1.260000e+04       1.128000e+03            24.000000\n",
       "50%    2.160000e+04       9.909000e+03            39.870000\n",
       "75%    3.510000e+04       5.754400e+04            63.250000\n",
       "max    3.715200e+06       2.418952e+06          3225.000000"
      ]
     },
     "execution_count": 19,
     "metadata": {},
     "output_type": "execute_result"
    }
   ],
   "source": [
    "journeys[['duration', 'creation_to_start', 'trip_sum_trip_price']].describe()"
   ]
  },
  {
   "cell_type": "code",
   "execution_count": 20,
   "id": "0de0459e-034d-4254-834e-e34fe4158d8a",
   "metadata": {},
   "outputs": [],
   "source": [
    "journeys['trip_start_hour'] = journeys['trip_start_at_local_time'].dt.hour\n",
    "journeys['trip_end_hour'] = journeys['trip_end_at_local_time'].dt.hour\n",
    "journeys['trip_start_day'] = journeys['trip_start_at_local_time'].dt.day\n",
    "journeys['trip_start_month'] = journeys['trip_start_at_local_time'].dt.month\n",
    "journeys['trip_start_dow'] = journeys['trip_start_at_local_time'].dt.dayofweek"
   ]
  },
  {
   "cell_type": "code",
   "execution_count": 21,
   "id": "28f334dc-6079-469b-bf22-dc6b7a750e7c",
   "metadata": {},
   "outputs": [],
   "source": [
    "journeys['trip_start_dow'] = journeys['trip_start_dow'].map(\n",
    "    {\n",
    "        0: 'Mon',\n",
    "        1: 'Tue',\n",
    "        2: 'Wen',\n",
    "        3: 'Thu',\n",
    "        4: 'Fri',\n",
    "        5: 'Sat',\n",
    "        6: 'Sun'\n",
    "    }\n",
    ")"
   ]
  }
 ],
 "metadata": {
  "kernelspec": {
   "display_name": "Python 3 (ipykernel)",
   "language": "python",
   "name": "python3"
  },
  "language_info": {
   "codemirror_mode": {
    "name": "ipython",
    "version": 3
   },
   "file_extension": ".py",
   "mimetype": "text/x-python",
   "name": "python",
   "nbconvert_exporter": "python",
   "pygments_lexer": "ipython3",
   "version": "3.9.13"
  }
 },
 "nbformat": 4,
 "nbformat_minor": 5
}
